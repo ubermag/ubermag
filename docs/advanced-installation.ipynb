{
 "cells": [
  {
   "cell_type": "markdown",
   "metadata": {},
   "source": [
    "# Advanced installation\n",
    "\n",
    "To use `ubermag` for micromagnetic computations, you need to:\n",
    "\n",
    "1. Install Ubermag.\n",
    "\n",
    "2. Install a computational backend (such as OOMMF or mumax3).\n",
    "\n",
    "3. Ensure Ubermag knows where to find the computational backend.\n",
    "\n",
    "By installing Ubermag using `conda`, all three steps would be carried out automatically (for OOMMF). However, if for some reason you need more freedom in choosing the computational backend, please follow the steps explained subsequently for your operating system.\n",
    "\n",
    "## Windows\n",
    "\n",
    "1. Before we install `ubermag`, we need to install `Python3` Anaconda package manager. If you do not already have it installed, download [Anaconda](https://www.anaconda.com/download) Python 3.7+ for your operating system and follow the instructions to install it.\n",
    "\n",
    "2. Now we have everything required to install `ubermag`. Run in Command Prompt:\n",
    "\n",
    "```\n",
    "$ pip install ubermag\n",
    "```\n",
    "\n",
    "3. To install OOMMF as a computational backend, first, you need to install `tcl` on your machine. To do this, download the `.exe` file from this [link](http://www.activestate.com/activetcl/downloads), appropriate for your operating system (32-bit or 64-bit). After the download is complete, run the downloaded file and follow the instructions to complete the installation.\n",
    "\n",
    "4. Download the `.zip` file for the latest OOMMF version which is appropriate for your Windows OS (32-bit or 64-bit) from this [link](https://math.nist.gov/oommf/software-20.html). After the download is complete, unzip (extract) it. Locate among the the unzipped files `oommf.tcl` and remember its location - we are going to need it in step 3.\n",
    "\n",
    "5. In order to help Ubermag find where `oommf.tcl` is, we need to set the value of environment variable `OOMMFTCL`. To do this, in Control Panel, select `System` -> `Advanced system settings` (tab `Advanced`) -> `Environment variables`. In User variables select `New...` and type `OOMMFTCL` for Variable name and `C:\\path\\you\\remembered\\from\\step2\\oommf.tcl` to Variable value.\n",
    "\n",
    "\n",
    "## MacOS\n",
    "\n",
    "1. Before we install `ubermag`, we need to install `Python3` Anaconda package manager. If you do not already have it installed, download [Anaconda](https://www.anaconda.com/download) Python 3.7+ for your operating system and follow the instructions to install it.\n",
    "\n",
    "2. Now we have everything required to install `ubermag`. Therefore, run in terminal:\n",
    "\n",
    "```\n",
    "$ pip install ubermag\n",
    "```\n",
    "\n",
    "3. To compile OOMMF on MacOS, make sure you have `XCode` (from AppStore) and [Git](https://git-scm.com/download/mac) installed.\n",
    "\n",
    "4. Clone the repository by typing\n",
    "\n",
    "```\n",
    "$ git clone https://github.com/fangohr/oommf.git\n",
    "```\n",
    "\n",
    "5. To compile OOMMF, change the directory (`cd oommf`) and run:\n",
    "\n",
    "```\n",
    "$ make build-with-dmi-extension-all\n",
    "```\n",
    "\n",
    "This command, apart from building OOMMF, will download and compile Dzyaloshinkii-Moriya extensions for different crystalographic classes. For more information, please refer to the OOMMF [repository](https://github.com/fangohr/oommf).\n",
    "\n",
    "6. Finally, we have to set the environment variable `OOMMFTCL`, so that Ubermag knows where to find OOMMF. Consequently, in your home directory, add the path to `oommf.tcl` file to the end of the `.bash_profile` file. More specifically, the line at the end of your file should look like:\n",
    "\n",
    "```\n",
    "export OOMMFTCL=\"/path/to/your/compiled/oommf.tcl\"\n",
    "```\n",
    "\n",
    "**Please note that after editing `.bash_profile` file, you need to refresh your environment variables** (`source ~/.bashrc`) **or reopen the Terminal window.**\n",
    "\n",
    "\n",
    "## Linux (Ubuntu)\n",
    "\n",
    "1. To install Ubermag, we first have to make sure you have `pip` installed. **Please note that this command requires root privileges (sudo).**\n",
    "\n",
    "```\n",
    "$ apt-get install python3-pip\n",
    "```\n",
    "\n",
    "(Alternatively, you can use Anaconda Python3 distribution. If you do not already have it installed, download [Anaconda](https://www.anaconda.com/download) Python 3.7+ for your operating system and follow the instructions to install it.)\n",
    "\n",
    "2. Now, we can install `ubermag`\n",
    "\n",
    "```\n",
    "$ python3 -m pip install ubermag\n",
    "```\n",
    "\n",
    "3. You can compile OOMMF on your machine by firstly installing the required packages. **Please note that this command requires root privileges (sudo).**\n",
    "\n",
    "```\n",
    "$ apt-get install git tcl-dev tk-dev\n",
    "```\n",
    "\n",
    "4. Clone the repository:\n",
    "\n",
    "```\n",
    "$ git clone https://github.com/fangohr/oommf.git\n",
    "```\n",
    "\n",
    "(If you do not have `git`, you can install it using `apt-get install git`.)\n",
    "\n",
    "5. To compile OOMMF, change the directory (`cd oommf`) and run:\n",
    "\n",
    "```\n",
    "$ make build-with-dmi-extension-all\n",
    "```\n",
    "\n",
    "This command, apart from building OOMMF, will download and compile Dzyaloshinkii-Moriya extensions as well. For more information, please refer to the [OOMMF reporsitory](https://github.com/fangohr/oommf).\n",
    "\n",
    "6. Finally, we have to set the environment variable `OOMMFTCL`, so that previously installed Ubermag knows where to find OOMMF. Consequently, in your home directory, add the path to `oommf.tcl` file to the end of the `.bashrc` file. More specifically, the line at the emd of your file should look like:\n",
    "\n",
    "```\n",
    "export OOMMFTCL=\"/path/to/your/oommf.tcl\"\n",
    "```\n",
    "\n",
    "**Please note that after editing `.bash_profile` file, you need to refresh your environment variables** (`source ~/.bashrc`) **or reopen the Terminal window.**\n",
    "\n",
    "## Check the installation\n",
    "\n",
    "To check if Ubermag can communicate with your installed OOMMF, you can use these commands in a Python prompt on any operating system:"
   ]
  },
  {
   "cell_type": "code",
   "execution_count": 1,
   "metadata": {},
   "outputs": [
    {
     "name": "stdout",
     "output_type": "stream",
     "text": [
      "Running OOMMF (ExeOOMMFRunner) [2021/09/22 10:10]...  <1> mmarchive killed\n",
      " <2> mmarchive killed\n",
      " <3> mmarchive killed\n",
      "(1.2 s)\n",
      "OOMMF found and running.\n"
     ]
    },
    {
     "data": {
      "text/plain": [
       "0"
      ]
     },
     "execution_count": 1,
     "metadata": {},
     "output_type": "execute_result"
    }
   ],
   "source": [
    "# NBVAL_IGNORE_OUTPUT\n",
    "import oommfc\n",
    "oommfc.runner.runner.status"
   ]
  },
  {
   "cell_type": "markdown",
   "metadata": {},
   "source": [
    "or from the command line:\n",
    "\n",
    "```\n",
    "python3 -c \"import oommfc; oommfc.oommf.status()\n",
    "```\n",
    "\n",
    "This will attempt to run a small simulation using OOMMF.\n",
    "\n",
    "### How does Ubermag find OOMMF?\n",
    "\n",
    "`oommfc` checks for OOMMF in the following steps until the first method is successful:\n",
    "\n",
    "1. Is the `OOMMFTCL` variable set? If so, use this value to try to find OOMMF there.\n",
    "\n",
    "2. Is OOMMF in the directory it should be in if both `oommf` and `ubermag` were installed using conda.\n",
    "\n",
    "3. If `docker` is available and the docker deamon is running, then OOMMF is used in the Docker container. (The required docker image will be downloaded if necessary.)"
   ]
  }
 ],
 "metadata": {
  "anaconda-cloud": {},
  "kernelspec": {
   "display_name": "Python 3 (ipykernel)",
   "language": "python",
   "name": "python3"
  },
  "language_info": {
   "codemirror_mode": {
    "name": "ipython",
    "version": 3
   },
   "file_extension": ".py",
   "mimetype": "text/x-python",
   "name": "python",
   "nbconvert_exporter": "python",
   "pygments_lexer": "ipython3",
   "version": "3.8.10"
  },
  "widgets": {
   "application/vnd.jupyter.widget-state+json": {
    "state": {},
    "version_major": 2,
    "version_minor": 0
   }
  }
 },
 "nbformat": 4,
 "nbformat_minor": 4
}
