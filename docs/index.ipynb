{
 "cells": [
  {
   "cell_type": "markdown",
   "metadata": {},
   "source": [
    "# Tutorials\n",
    "\n",
    "- [What is `ubermag`](what-is-ubermag.ipynb)\n",
    "- [Installation, testing, and update](installation-testing-update.ipynb)\n",
    "- [Where to find documentation?](documentation.ipynb)\n",
    "- [`ubermag` in the cloud](ubermag-cloud.ipynb)\n",
    "- [Support, License, How to cite, and Acknowledgements](other.ipynb)\n",
    "\n",
    "#### Advanced:\n",
    "\n",
    "- [Advanced installation](advanced-installation.ipynb)"
   ]
  }
 ],
 "metadata": {
  "kernelspec": {
   "display_name": "Python 3",
   "language": "python",
   "name": "python3"
  },
  "language_info": {
   "codemirror_mode": {
    "name": "ipython",
    "version": 3
   },
   "file_extension": ".py",
   "mimetype": "text/x-python",
   "name": "python",
   "nbconvert_exporter": "python",
   "pygments_lexer": "ipython3",
   "version": "3.8.5"
  },
  "widgets": {
   "application/vnd.jupyter.widget-state+json": {
    "state": {},
    "version_major": 2,
    "version_minor": 0
   }
  }
 },
 "nbformat": 4,
 "nbformat_minor": 4
}
