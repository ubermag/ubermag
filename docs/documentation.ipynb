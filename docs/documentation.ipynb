{
 "cells": [
  {
   "cell_type": "markdown",
   "metadata": {},
   "source": [
    "# Where to find documentation?\n",
    "\n",
    "Technically speaking, `ubermag` is a meta package binding together different subpackages (dependencies). This is why `ubermag` is never used by typing `import ubermag`, but one if its subpackages. Therefore, no documentation is present in `ubermag` - apart from a little docs you are reading right now :).\n",
    "\n",
    "Each subpackage is responsible for different operations and each of the packages is documented separately. Documentation consists of API references as well as tutorials in the form of Jupyter notebooks. The subpackages are:\n",
    "\n",
    "1. [ubermagutil](https://github.com/ubermag/ubermagutil) for imposing typesystem - [documentation](https://ubermagutil.readthedocs.io/en/latest/?badge=latest)\n",
    "\n",
    "2. [discretisedfield](https://github.com/ubermag/discretisedfield) for operations on finite difference fields - [documentation](http://discretisedfield.readthedocs.io/en/latest/?badge=latest)\n",
    "\n",
    "3. [ubermagtable](https://github.com/ubermag/ubermagtable) for operations on scalar table data - [documentation](https://ubermagtable.readthedocs.io/en/latest/?badge=latest)\n",
    "\n",
    "4. [micromagneticmodel](https://github.com/ubermag/micromagneticmodel) for defining micromagnetic models - [documentation](https://micromagneticmodel.readthedocs.io/en/latest/?badge=latest)\n",
    "\n",
    "5. [oommfc](https://github.com/ubermag/oommfc) OOMMF calculator - [documentation](https://oommfc.readthedocs.io/en/latest/?badge=latest)\n",
    "  \n",
    "6. [micromagneticdata](https://github.com/ubermag/micromagneticdata) data analysis package - [documentation](https://micromagneticdata.readthedocs.io/en/latest/?badge=latest)\n",
    "\n",
    "## Getting started\n",
    "\n",
    "The best place to start at is the [Ubermag workshop](https://github.com/ubermag/workshop)."
   ]
  }
 ],
 "metadata": {
  "kernelspec": {
   "display_name": "Python 3",
   "language": "python",
   "name": "python3"
  },
  "language_info": {
   "codemirror_mode": {
    "name": "ipython",
    "version": 3
   },
   "file_extension": ".py",
   "mimetype": "text/x-python",
   "name": "python",
   "nbconvert_exporter": "python",
   "pygments_lexer": "ipython3",
   "version": "3.8.5"
  },
  "widgets": {
   "application/vnd.jupyter.widget-state+json": {
    "state": {},
    "version_major": 2,
    "version_minor": 0
   }
  }
 },
 "nbformat": 4,
 "nbformat_minor": 4
}
