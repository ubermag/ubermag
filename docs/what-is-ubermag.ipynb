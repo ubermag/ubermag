{
 "cells": [
  {
   "cell_type": "markdown",
   "metadata": {},
   "source": [
    "# What is `ubermag`?\n",
    "\n",
    "`ubermag` is a level of (Python) utilities sitting above (\"*über*\") existing micromagnetic simulation packages, such as OOMMF and mumax3. We refer to packages such as OOMMF and mumax3 as the *computational backends*, or as (micromagnetic) *calculators*.\n",
    "\n",
    "By exposing micromagnetic simulations to the Python ecosystem and integration into Jupyter, all the popular tools used in scientific computing for data analysis, numerical analysis, visualisation, machine learning, etc. become readily available.\n",
    "\n",
    "The `ubermag` Python packages allow to specify a micromagnetic problem (without making use of any micromagnetic calculator). Only when the micromagnetic problem needs to be solved, the task is delegated to the computational backend.\n",
    "\n",
    "Design objectives of Ubermag are:\n",
    "\n",
    "1. Work towards a common interface (domain spacific language) to multiple simulation packages,\n",
    "\n",
    "2. Expose micromagnetic simulations to Python ecosystem,\n",
    "\n",
    "3. Make it easier to compare simulation results obtained with different simulation packages, and\n",
    "\n",
    "4. Allow execution of micromagnetic simulation in the cloud."
   ]
  }
 ],
 "metadata": {
  "anaconda-cloud": {},
  "kernelspec": {
   "display_name": "Python 3",
   "language": "python",
   "name": "python3"
  },
  "language_info": {
   "codemirror_mode": {
    "name": "ipython",
    "version": 3
   },
   "file_extension": ".py",
   "mimetype": "text/x-python",
   "name": "python",
   "nbconvert_exporter": "python",
   "pygments_lexer": "ipython3",
   "version": "3.8.5"
  },
  "widgets": {
   "application/vnd.jupyter.widget-state+json": {
    "state": {},
    "version_major": 2,
    "version_minor": 0
   }
  }
 },
 "nbformat": 4,
 "nbformat_minor": 4
}
